{
 "cells": [
  {
   "cell_type": "markdown",
   "id": "b101cda9",
   "metadata": {},
   "source": [
    "# 100 Days Of Python Practics Programms"
   ]
  },
  {
   "cell_type": "markdown",
   "id": "09dbeae5",
   "metadata": {},
   "source": [
    "Python Program to Print Hello world!\n",
    "Python Program to Add Two Numbers\n",
    "Python Program to Find the Square Root\n",
    "Python Program to Calculate the Area of a Triangle\n",
    "Python Program to Solve Quadratic Equation\n",
    "Python Program to Swap Two Variables\n",
    "Python Program to Generate a Random Number\n",
    "Python Program to Convert Kilometers to Miles\n",
    "Python Program to Convert Celsius To Fahrenheit\n",
    "Python Program to Check if a Number is Positive, Negative or 0\n",
    "Python Program to Check if a Number is Odd or Even\n",
    "Python Program to Check Leap Year\n",
    "Python Program to Find the Largest Among Three Numbers\n",
    "Python Program to Check Prime Number\n",
    "Python Program to Print all Prime Numbers in an Interval\n",
    "Python Program to Find the Factorial of a Number\n",
    "Python Program to Display the multiplication Table\n",
    "Python Program to Print the Fibonacci sequence\n",
    "Python Program to Check Armstrong Number\n",
    "Python Program to Find Armstrong Number in an Interval\n",
    "Python Program to Find the Sum of Natural Numbers\n",
    "Python Program to Display Powers of 2 Using Anonymous Function\n",
    "Python Program to Find Numbers Divisible by Another Number\n",
    "Python Program to Convert Decimal to Binary, Octal and Hexadecimal\n",
    "Python Program to Find ASCII Value of Character\n",
    "Python Program to Find HCF or GCD\n",
    "Python Program to Find LCM\n",
    "Python Program to Find the Factors of a Number\n",
    "Python Program to Make a Simple Calculator\n",
    "Python Program to Shuffle Deck of Cards\n",
    "Python Program to Display Calendar\n",
    "Python Program to Display Fibonacci Sequence Using Recursion\n",
    "Python Program to Find Sum of Natural Numbers Using Recursion\n",
    "Python Program to Find Factorial of Number Using Recursion\n",
    "Python Program to Convert Decimal to Binary Using Recursion\n",
    "Python Program to Add Two Matrices\n",
    "Python Program to Transpose a Matrix\n",
    "Python Program to Multiply Two Matrices\n",
    "Python Program to Check Whether a String is Palindrome or Not\n",
    "Python Program to Remove Punctuations From a String\n",
    "Python Program to Sort Words in Alphabetic Order\n",
    "Python Program to Illustrate Different Set Operations\n",
    "Python Program to Count the Number of Each Vowel\n",
    "Python Program to Merge Mails\n",
    "Python Program to Find the Size (Resolution) of a Image\n",
    "Python Program to Find Hash of File\n",
    "Python Program to Create Pyramid Patterns\n",
    "Python Program to Merge Two Dictionaries\n",
    "Python Program to Safely Create a Nested Directory\n",
    "Python Program to Access Index of a List Using for Loop\n",
    "Python Program to Flatten a Nested List\n",
    "Python Program to Slice Lists\n",
    "Python Program to Iterate Over Dictionaries Using for Loop\n",
    "Python Program to Sort a Dictionary by Value\n",
    "Python Program to Check If a List is Empty\n",
    "Python Program to Catch Multiple Exceptions in One Line\n",
    "Python Program to Copy a File\n",
    "Python Program to Concatenate Two Lists\n",
    "Python Program to Check if a Key is Already Present in a Dictionary\n",
    "Python Program to Split a List Into Evenly Sized Chunks\n",
    "Python Program to Parse a String to a Float or Int\n",
    "Python Program to Print Colored Text to the Terminal\n",
    "Python Program to Convert String to Datetime\n",
    "Python Program to Get the Last Element of the List\n",
    "Python Program to Get a Substring of a String\n",
    "Python Program to Print Output Without a Newline\n",
    "Python Program Read a File Line by Line Into a List\n",
    "Python Program to Randomly Select an Element From the List\n",
    "Python Program to Check If a String Is a Number (Float)\n",
    "Python Program to Count the Occurrence of an Item in a List\n",
    "Python Program to Append to a File\n",
    "Python Program to Delete an Element From a Dictionary\n",
    "Python Program to Create a Long Multiline String\n",
    "Python Program to Extract Extension From the File Name\n",
    "Python Program to Measure the Elapsed Time in Python\n",
    "Python Program to Get the Class Name of an Instance\n",
    "Python Program to Convert Two Lists Into a Dictionary\n",
    "Python Program to Differentiate Between type() and isinstance()\n",
    "Python Program to Trim Whitespace From a String\n",
    "Python Program to Get the File Name From the File Path\n",
    "Python Program to Represent enum\n",
    "Python Program to Return Multiple Values From a Function\n",
    "Python Program to Get Line Count of a File\n",
    "Python Program to Find All File with .txt Extension Present Inside a Directory\n",
    "Python Program to Get File Creation and Modification Date\n",
    "Python Program to Get the Full Path of the Current Working Directory\n",
    "Python Program to Iterate Through Two Lists in Parallel\n",
    "Python Program to Check the File Size\n",
    "Python Program to Reverse a Number\n",
    "Python Program to Compute the Power of a Number\n",
    "Python Program to Count the Number of Digits Present In a Number\n",
    "Python Program to Check If Two Strings are Anagram\n",
    "Python Program to Capitalize the First Character of a String\n",
    "Python Program to Compute all the Permutation of the String\n",
    "Python Program to Create a Countdown Timer\n",
    "Python Program to Count the Number of Occurrence of a Character in String\n",
    "Python Program to Remove Duplicate Element From a List\n",
    "Python Program to Convert Bytes to a String"
   ]
  },
  {
   "cell_type": "markdown",
   "id": "ef89e85b",
   "metadata": {},
   "source": [
    "# Python Program to Print Hello world!"
   ]
  },
  {
   "cell_type": "markdown",
   "id": "6ceb59f8",
   "metadata": {},
   "source": [
    "# Learn Python with Challenges\n",
    "Solve challenges and become a Python expert."
   ]
  },
  {
   "cell_type": "code",
   "execution_count": 1,
   "id": "b83616d9",
   "metadata": {},
   "outputs": [
    {
     "name": "stdout",
     "output_type": "stream",
     "text": [
      "Hello world!\n"
     ]
    }
   ],
   "source": [
    "print('Hello world!')"
   ]
  },
  {
   "cell_type": "code",
   "execution_count": 2,
   "id": "290e01b5",
   "metadata": {},
   "outputs": [
    {
     "name": "stdout",
     "output_type": "stream",
     "text": [
      "3434\n"
     ]
    }
   ],
   "source": [
    "print(3434)"
   ]
  },
  {
   "cell_type": "code",
   "execution_count": null,
   "id": "c478c3ee",
   "metadata": {},
   "outputs": [],
   "source": []
  }
 ],
 "metadata": {
  "kernelspec": {
   "display_name": "Python 3 (ipykernel)",
   "language": "python",
   "name": "python3"
  },
  "language_info": {
   "codemirror_mode": {
    "name": "ipython",
    "version": 3
   },
   "file_extension": ".py",
   "mimetype": "text/x-python",
   "name": "python",
   "nbconvert_exporter": "python",
   "pygments_lexer": "ipython3",
   "version": "3.10.9"
  }
 },
 "nbformat": 4,
 "nbformat_minor": 5
}
